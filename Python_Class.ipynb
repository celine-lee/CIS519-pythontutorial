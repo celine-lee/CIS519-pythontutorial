{
 "cells": [
  {
   "cell_type": "markdown",
   "metadata": {},
   "source": [
    "# CIS 419/519 Python Introduction\n",
    "## Python/Jupyter Installation Instructions\n",
    "First, make sure your machine is all set up with Python3 (Anaconda) and Jupyter. See the instructions here:\n",
    "https://docs.google.com/document/d/1AcLe2mqrIGlJrJLKeUWqypEyNHTebWkdvpPOTkMwllo/edit?usp=sharing\n",
    "\n",
    "If you have never used python or Jupyter notebooks before, we recommend bookmarking these resources:\n",
    "- Python: https://developers.google.com/edu/python/\n",
    "- Jupyter: https://www.datacamp.com/community/tutorials/tutorial-jupyter-notebook\n",
    "\n",
    "Be aware that the Google tutorial uses python2, so some of their example code may not directly work in python3:\n",
    "- Print statements now require parentheses: `print x` now becomes `print(x)`\n",
    "- No longer need to specify file encoding: `open('file.txt', 'r')` works\n",
    "- The division operator `/` no longer does integer divison: `5 / 2` is `2.5`\n",
    "- The `xrange` operator is now only `range`\n",
    "\n",
    "Other differences can be found on the web: https://www.geeksforgeeks.org/important-differences-between-python-2-x-and-python-3-x-with-examples/\n"
   ]
  },
  {
   "cell_type": "markdown",
   "metadata": {},
   "source": [
    "## About Python\n",
    "Python is a programming language that is very popular among the machine learning research community.\n",
    "It is a higher-level programming language than Java, and has an extensive collection of libraries that can be easily installed.\n",
    "We require that you use python for this class, so it is important to be familiar with it.\n",
    "\n",
    "### Python vs Java\n",
    "- Java is compiled, but Python is not: you directly run the Python file\n",
    "- Java is statically typed (the types of the variables cannot change), and you do not declare types in Python\n",
    "```\n",
    "# This works in python\n",
    "x = 3\n",
    "x = \"python\"\n",
    "```\n",
    "- Instantiating a class in Python does not use `new`\n",
    "```\n",
    "# Assume there is a class called `Person`\n",
    "p = Person('Emily', 25)\n",
    "```\n",
    "- Python does not use parentheses, like Java. Instead, it uses whitespace to infer the scope of methods, for loops, etc.\n",
    "```\n",
    "for i in range(10):\n",
    "      print(i * 2)      # Indent by 4 spaces\n",
    "      print(i * 4)\n",
    "print('Done')       # No indent, runs after for loop\n",
    "```\n",
    "- Functions cannot be overloaded, instead use optional arguments\n",
    "```\n",
    "def f(x, y=0.0):\n",
    "      ....\n",
    "f(8)\n",
    "f(8, 2)\n",
    "```\n",
    "- Boolean values are now `True` and `False`\n",
    "\n",
    "### Python vs Matlab\n",
    "- Python uses hard brackets `[]` for indexing arrays and matrices instead of `()` in Matlab\n",
    "- Python is 0-indexed, so the first item in a list is at index 0, not 1\n",
    "- Python doesn't come by default with a full development tool, like Matlab\n",
    "- The `numpy` library in Python implements many of the same matrix functionality that Matlab has\n",
    "\n",
    "### Development Environments\n",
    "- In this class we will use Jupyter Notebooks, which is one of many ways you can write python code. We feel that Jupyter Notebooks are a simple, but effective tool.\n",
    "- Other options include:\n",
    "  - Text editors: Atom, Sublime\n",
    "  - PyCharm: https://www.jetbrains.com/pycharm/\n",
    "  - Google Collaboratory: https://colab.research.google.com/ \n",
    "\n"
   ]
  },
  {
   "cell_type": "markdown",
   "metadata": {},
   "source": [
    "## Jupyter Notebooks\n",
    "When you start a Jupyter Notebook, you are starting a server on your local machine that hosts the notebooks.\n",
    "```\n",
    "> jupyter notebook\n",
    "```\n",
    "Once the server has started, open up a web browser and go to http://localhost:8888.\n",
    "You should see a file tree, which you can use to navigate to where you want to save your Jupyter Notebook.\n",
    "\n",
    "Jupyter Notebooks allow you to interactively develop python code.\n",
    "Cells have types, either markdown (https://github.com/adam-p/markdown-here/wiki/Markdown-Cheatsheet) or python code.\n",
    "You can write as much code in a cell as you need.\n",
    "When you want to execute it, enter shift+enter.\n",
    "Anything displayed by your program will be written below the cell.\n",
    "Variables that are defined within an executed cell are saved in memory and can be used later (similar behavior in Matlab).\n",
    "It's similar to if you could pause the program execution.\n",
    "Code within other cells can reference any cell _which has already been executed_.\n",
    "If you have already run a cell and you edit its code, the cell needs to be rerun in order for your changes to take effect.\n",
    "\n",
    "If you close the Jupyter Notebook, you will need to rerun all of the cells from scratch so the variables and methods will be redefined. **Make sure you save before you close the notebook!**\n",
    "\n",
    "### Submitting assignments\n",
    "Your Jupyter Notebook can be downloaded as a python file that can be run under File -> Download -> Python .py.\n",
    "You should turn in this python file and **not** the `.ipynb` file."
   ]
  },
  {
   "cell_type": "markdown",
   "metadata": {},
   "source": [
    "### Basics"
   ]
  },
  {
   "cell_type": "code",
   "execution_count": null,
   "metadata": {},
   "outputs": [],
   "source": [
    "# Assigning variables\n",
    "x = 4.2\n",
    "y = 8\n",
    "s = 'hello'\n",
    "\n",
    "# The types of variables can change without a problem\n",
    "y = 'abc'\n",
    "\n",
    "# To display variables, use the print function\n",
    "print(y)\n",
    "\n",
    "# The \"null\" type is called `None`\n",
    "z = None\n",
    "print(z)\n",
    "\n",
    "print(z == None)\n",
    "\n",
    "# Casting\n",
    "s = '140'\n",
    "print(int(s))\n",
    "s = '140.243'\n",
    "print(float(s))\n",
    "x = 123\n",
    "print(str(x))"
   ]
  },
  {
   "cell_type": "markdown",
   "metadata": {},
   "source": [
    "### String Manipulation"
   ]
  },
  {
   "cell_type": "code",
   "execution_count": null,
   "metadata": {},
   "outputs": [],
   "source": [
    "s = \"ABCdef\"\n",
    "s = 'ABCdef'\n",
    "\n",
    "# Length\n",
    "print(len(s))  # 6\n",
    "\n",
    "# Standard Indexing: Notice hard brackets and 0-indexing\n",
    "print(s[0])      # 'A'\n",
    "print(s[1])      # 'B'\n",
    "print(s[5])      # 'f'\n",
    "# print(s[100])  # Error\n",
    "\n",
    "# Range Indexing\n",
    "print(s[1:4])    # 'BCd'\n",
    "print(s[2:])     # 'Cdef'\n",
    "print(s[:2])     # 'AB'\n",
    "print(s[1:100])  # 'BCdef'\n",
    "\n",
    "# Negative Indexing\n",
    "print(s[-1])    # 'f'\n",
    "print(s[-2])    # 'e'\n",
    "print(s[:-1])   # 'ABCde'\n",
    "print(s[:-3])   # 'ABC'\n",
    "print(s[::-1])  # 'fedCBA'\n",
    "\n",
    "# Concatenation\n",
    "print(s + 'xyz')     # 'ABCdefxyz'\n",
    "# print(s + 123)     # Error\n",
    "print(s + str(123))  # 'ABCdef123'\n",
    "\n",
    "# Splitting\n",
    "print(s.split('C'))  # ['AB', 'def']"
   ]
  },
  {
   "cell_type": "markdown",
   "metadata": {},
   "source": [
    "### Lists"
   ]
  },
  {
   "cell_type": "code",
   "execution_count": null,
   "metadata": {},
   "outputs": [],
   "source": [
    "a = [0, 4, 2, 8, 9]  # Create a list with initial items\n",
    "b = []  # Create an empty list\n",
    "\n",
    "# Length\n",
    "print(len(a))  # 5\n",
    "\n",
    "# The same indexing operations on strings work for lists\n",
    "print(a[1])    # 4\n",
    "print(a[2:4])  # [2, 8]\n",
    "print(a[-2])   # 8\n",
    "\n",
    "# Sort the list\n",
    "print(sorted(a))                # [0, 2, 4, 8, 9] Creates a copy, does not modify the original list\n",
    "print(sorted(a, reverse=True))  # [9, 8, 4, 2, 0] Also a copy\n",
    "\n",
    "# Add items to the end of the list\n",
    "a.append(10)  # Returns nothing\n",
    "print(a)      # [0, 4, 2, 8, 9, 10] \n",
    "a += [1, 12]  # Returns nothing\n",
    "print(a)      # [0, 4, 2, 8, 9, 10, 1, 12]\n",
    "\n",
    "# Lists don't have to be the same type in python\n",
    "a.append('machine learning')\n",
    "print(a)            # [0, 4, 2, 8, 9, 10, 1, 12, 'machine learning']\n",
    "# print(sorted(a))  # Causes an error\n",
    "\n",
    "# Searching\n",
    "print(8 in a)    # True\n",
    "print(100 in a)  # False"
   ]
  },
  {
   "cell_type": "markdown",
   "metadata": {},
   "source": [
    "## Dictionaries\n",
    "https://developers.google.com/edu/python/dict-files"
   ]
  },
  {
   "cell_type": "code",
   "execution_count": null,
   "metadata": {},
   "outputs": [],
   "source": [
    "d = {}       # Create an empty dictionary, which is a key-value map\n",
    "d['a'] = 97  # Add an item to the dictionary\n",
    "print(d)     # {'a': 97}\n",
    "print(d['a'])\n",
    "\n",
    "d['c'] = 99\n",
    "d[0] = [0, 1, 2]  # Keys and values don't need to be the same type\n",
    "print(d)          # {'a': 97, 'c': 99, 0: [0, 1, 2]}\n",
    "\n",
    "# Retrieve the keys and values of the dictionary.\n",
    "# These are not actually lists, but look like it. Call list(d.keys()) to actually convert it to a list\n",
    "keys = d.keys()      # Retrieve a list of the keys of the dictionary, not necessarily in any order\n",
    "values = d.values()  # Retrieve a list of the values of the dictionary, not necessarily in any order\n",
    "print(keys)          # ['a', 'c', 0]\n",
    "print(values)        # [97, 99, [0, 1, 2]]\n",
    "\n",
    "# Check to see if items are in the dictionary (checks keys)\n",
    "print('a' in d)  # True\n",
    "print('x' in d)  # False\n",
    "\n",
    "# Remove an item from the list\n",
    "del d['a']    # Returns nothing, modifies inplace\n",
    "# del d['y']  # Error"
   ]
  },
  {
   "cell_type": "markdown",
   "metadata": {},
   "source": [
    "## If Statements\n",
    "Covered in the strings section: https://developers.google.com/edu/python/strings"
   ]
  },
  {
   "cell_type": "code",
   "execution_count": null,
   "metadata": {},
   "outputs": [],
   "source": [
    "# Python doesn't require parenthese\n",
    "a, b = 7, 10\n",
    "\n",
    "# equality\n",
    "if a == 7:\n",
    "    print('yes')\n",
    "else:\n",
    "    print('no')\n",
    "    \n",
    "# not equal\n",
    "if a != 8:\n",
    "    print('neq')\n",
    "    \n",
    "# and\n",
    "if a > 5 and b <= 10:\n",
    "    print('1')\n",
    "elif a > 10:\n",
    "    print('2')\n",
    "else:\n",
    "    print('3')\n",
    "\n",
    "# or\n",
    "if a < 10 or b > 100:\n",
    "    print('yes')\n",
    "    \n",
    "# Strings also use '=='\n",
    "s = 'abc'\n",
    "if s == 'abc':\n",
    "    print('here')"
   ]
  },
  {
   "cell_type": "markdown",
   "metadata": {},
   "source": [
    "## For Loops\n",
    "Covered under lists: https://developers.google.com/edu/python/lists"
   ]
  },
  {
   "cell_type": "code",
   "execution_count": null,
   "metadata": {},
   "outputs": [],
   "source": [
    "a = [0, 8, 3, 5, 1]\n",
    "\n",
    "range(5)     # Dynamically generates 0, 1, 2, 3, 4\n",
    "range(1, 5)  # 1, 2, 3, 4\n",
    "\n",
    "# \"Standard\" for loop from Java\n",
    "for i in range(len(a)):\n",
    "    print(a[i])\n",
    "\n",
    "# Iterate over each element in the list\n",
    "for x in a:\n",
    "    print(x)\n",
    "    \n",
    "# Iterating through dictionaries\n",
    "d = {0: 'a', 1: 'b', 2: 'c'}\n",
    "for key, value in d.items():\n",
    "    print(str(key) + ' -> ' + value)\n",
    "    \n",
    "    \n",
    "# Loop over items in an array and get the index at the same time\n",
    "for index, item in enumerate(a):\n",
    "  print(index, item)"
   ]
  },
  {
   "cell_type": "markdown",
   "metadata": {},
   "source": [
    "## Methods"
   ]
  },
  {
   "cell_type": "code",
   "execution_count": null,
   "metadata": {},
   "outputs": [],
   "source": [
    "# No return type specification necessary\n",
    "def add(x, y):\n",
    "    return x + y\n",
    "\n",
    "def concat(list_1, list_2):\n",
    "    list_1 += list_2\n",
    "\n",
    "print(add(3, 4))        # 7\n",
    "# print(add(4, 8, 10))  # Error\n",
    "\n",
    "# Arguments can be passed by name\n",
    "print(add(y=8, x=2))  # 10\n",
    "\n",
    "a1 = [0, 1]\n",
    "a2 = [3, 5]\n",
    "concat(a1, a2)  # Returns nothing\n",
    "print(a1)       # [0, 1, 3, 5]\n",
    "\n",
    "# Methods can return more than one thing\n",
    "def two(a):\n",
    "  return a + 1, a + 2\n",
    "\n",
    "a3, a4 = two(1)\n",
    "print(a3)  # 2\n",
    "print(a4)  # 3\n",
    "\n",
    "t = two(1)\n",
    "print(t[0])\n",
    "print(t[1])"
   ]
  },
  {
   "cell_type": "markdown",
   "metadata": {},
   "source": [
    "## List and Dictionary Comprehension"
   ]
  },
  {
   "cell_type": "code",
   "execution_count": null,
   "metadata": {},
   "outputs": [],
   "source": [
    "# Sometimes code can be simplified using list/dictionary comprehensions\n",
    "def add_one(x):\n",
    "  return x + 1\n",
    "\n",
    "# The standard way to apply a function to every element and save in y\n",
    "x = [0, 1, 2, 3]\n",
    "y = []\n",
    "for i in range(len(x)):\n",
    "  y.append(add_one(x[i]))\n",
    "\n",
    "# This is equivalent to the above\n",
    "y = [add_one(x_i) for x_i in x]\n",
    "\n",
    "# Add conditionals\n",
    "y2 = [add_one(x_i) for x_i in x if x_i > 1]\n",
    "\n",
    "# Dictionary comprehensions can be used to create dictionaries easily.\n",
    "# This creates a mapping from x_i -> x_i * 4\n",
    "d = {x_i : x_i * 4 for x_i in x}\n",
    "print(d)\n",
    "print(d[2])  # 8"
   ]
  },
  {
   "cell_type": "markdown",
   "metadata": {},
   "source": [
    "## Files\n",
    "https://developers.google.com/edu/python/dict-files"
   ]
  },
  {
   "cell_type": "code",
   "execution_count": null,
   "metadata": {},
   "outputs": [],
   "source": [
    "# Reading from a file\n",
    "# In the same directory as the Jupyter notebook is a file called 'input.txt'.\n",
    "# You can use this for loop template to iteratively read a file line by line. Generally, you will\n",
    "# include some parsing logic to extract data from each line\n",
    "lines = []\n",
    "with open('input.txt', 'r') as f:   # This is the line which opens the file. `f` is the file handler\n",
    "                                    # The `with open` will automatically close the file are you are done reading.\n",
    "                                    # 'r' means you want to read from the file\n",
    "    for line in f:\n",
    "        line = line.strip()         # `strip()` removes any  whitespace from the beginning and end of the string\n",
    "                                    # By default, each line will have '\\n' at the end. \n",
    "        upper = line.upper()        # Here is where you would add your custom parsing logic\n",
    "        lines.append(upper)\n",
    "\n",
    "print(lines)  # ['A', 'B', 'C', 'D', 'E', 'F', 'G']\n",
    "\n",
    "# Writing to a file\n",
    "# This will write each of the apital letters to a line in an output file\n",
    "out = open('out.txt', 'w')\n",
    "out.write('hi')\n",
    "out.close()\n",
    "\n",
    "with open('output.txt', 'w') as out:  # 'w' means you want to write to the file. This will overwite the file if it exists\n",
    "    for item in lines:\n",
    "        out.write(str(item) + '\\n')   # the `write` method only accepts strings and you have to\n",
    "                                      # manually take care of the '\\n' yourself"
   ]
  },
  {
   "cell_type": "markdown",
   "metadata": {},
   "source": [
    "### Classes"
   ]
  },
  {
   "cell_type": "code",
   "execution_count": null,
   "metadata": {},
   "outputs": [],
   "source": [
    "class Person(object):\n",
    "    # This is the constructor. All instance methods of a class\n",
    "    # must accept `self` as the first parameter\n",
    "    # The self parameter is a reference to the current instance of the class, and is used to access variables that belongs to the class\n",
    "    # You use `self` to access data members and methods of the class,\n",
    "    # similar to `this` in Java\n",
    "    def __init__(self, name, age):\n",
    "        # This will call the super class's constructor; Optional if you inherit from `object`\n",
    "        super().__init__()\n",
    "        \n",
    "        # Assign data members\n",
    "        self.name = name\n",
    "        self.age = age\n",
    "        \n",
    "    def is_adult(self):\n",
    "        return self.age >= 18\n",
    "    \n",
    "    def is_child(self):\n",
    "        # Other instance methods are called with the `self` keyword.\n",
    "        return not self.is_adult()\n",
    "    \n",
    "    def increment_age(self, amount):\n",
    "        self.age += amount\n",
    "        \n",
    "    # Test to see if two `Person` objects are equal\n",
    "    def __eq__(self, other):\n",
    "        return self.name == other.name and self.age == other.age"
   ]
  },
  {
   "cell_type": "code",
   "execution_count": null,
   "metadata": {},
   "outputs": [],
   "source": [
    "p = Person('Bob', 19)\n",
    "\n",
    "# Data members can be accessed directly\n",
    "print(p.name)  # 'Bob'\n",
    "print(p.age)   # 19\n",
    "\n",
    "# Even though all of the methods require a `self` argument, you ignore that argument\n",
    "# when calling the method\n",
    "print(p.is_adult())  # True \n",
    "\n",
    "p.increment_age(1)  # Returns nothing\n",
    "print(p.age)        # 20\n",
    "\n",
    "p2 = Person('Mary', 30)\n",
    "print(p == p2)  # False\n",
    "\n",
    "p3 = Person('Mary', 30)\n",
    "print(p2 == p3)  # True"
   ]
  },
  {
   "cell_type": "markdown",
   "metadata": {},
   "source": [
    "# Useful Packages\n",
    "There are many packages that come with your python installation as well as many which can be downloaded easily for free.\n",
    "Importing a package requires the `import` command.\n",
    "Most packages can be installed using the `pip` command (which is run on the command line, not within a python environment), that is included with the python installation.\n",
    "\n",
    "```\n",
    "> pip install numpy\n",
    "> pip install scikit-learn\n",
    "```\n"
   ]
  },
  {
   "cell_type": "markdown",
   "metadata": {},
   "source": [
    "### random\n",
    "The `random` package provides tools for generating random numbers."
   ]
  },
  {
   "cell_type": "code",
   "execution_count": null,
   "metadata": {},
   "outputs": [],
   "source": [
    "import random\n",
    "\n",
    "random.seed(4)\n",
    "\n",
    "print(random.randint(1, 5))  # A random integer in (1, 5)\n",
    "\n",
    "print(random.random())  # A random number in (0, 1.0]\n",
    "\n",
    "# Randomly shuffle a list\n",
    "a = [0, 1, 2, 3, 4, 5]\n",
    "random.shuffle(a)  # Shuffles in place - does not return a copy\n",
    "print(a)"
   ]
  },
  {
   "cell_type": "markdown",
   "metadata": {},
   "source": [
    "### numpy\n",
    "`numpy` is a very useful matrix library for Python.\n",
    "It is used very frequently in machine learning, so it is good to be familiar with it.\n",
    "If your program crashes with an import error when you import numpy, you need to install it with\n",
    "```\n",
    "> pip install numpy\n",
    "```"
   ]
  },
  {
   "cell_type": "code",
   "execution_count": null,
   "metadata": {},
   "outputs": [],
   "source": [
    "# Imports can be aliased to simplify code\n",
    "import numpy as np  # The numpy library is now referenced with np\n",
    "\n",
    "# Create a vector of length 5 of all 0s\n",
    "v = np.zeros(5)\n",
    "print(v)\n",
    "\n",
    "print(v.shape)     # Returns a tuple of the dimensions: (5,)\n",
    "print(v.shape[0])  # Returns the size of the 0th dimension, 5\n",
    "\n",
    "# You can assign specific entries by their index into the vector\n",
    "v[0] = 1\n",
    "v[1] = 4\n",
    "\n",
    "# You can assign ranges of values\n",
    "v[2:5] = [5, 3, 6]\n",
    "print(v)\n",
    "\n",
    "# Create a random vector of values between 0 and 1\n",
    "np.random.seed(1)\n",
    "v1 = np.random.rand(5)\n",
    "print(v1)\n",
    "\n",
    "# Compute the dot product\n",
    "print(np.dot(v, v1))\n",
    "\n",
    "# Element-wise multiplication\n",
    "print(v * v1)\n",
    "print(np.multiply(v, v1))  # equivalent\n",
    "\n",
    "# Multiply the whole vector by a scalar, add a constant\n",
    "print(v * 5)\n",
    "print(v + 3)"
   ]
  },
  {
   "cell_type": "code",
   "execution_count": null,
   "metadata": {},
   "outputs": [],
   "source": [
    "# Matrices work much the same way (vectors are just matrices with 1 dimension)\n",
    "# `np.ones` creates a matrix of the given input size\n",
    "t = (3, 4)\n",
    "X = np.ones(t)\n",
    "print(X)\n",
    "print(X.shape)     # (3, 4)\n",
    "print(X.shape[0])  # 3\n",
    "print(X.shape[1])  # 4\n",
    "\n",
    "# Assigning specific entries requires 2 indices\n",
    "# The first is the row index, the second is the column index\n",
    "X[1, 3] = 8\n",
    "print(X)\n",
    "\n",
    "# The `:` selects the entire row or column\n",
    "row1 = X[1, :]\n",
    "print(row1)\n",
    "print(X[:, 2])\n",
    "\n",
    "# It can also be used to assign values\n",
    "X[1, :] = [1, 2, 3, 4]\n",
    "print(X)\n",
    "\n",
    "# Matrix multiplication\n",
    "Y = np.random.rand(4, 5)\n",
    "print(np.matmul(X, Y))  # A matrix of size (3, 5)\n",
    "\n",
    "# Transpose\n",
    "print(X.transpose())\n",
    "print(X.T)  # equivalent\n",
    "\n",
    "# You can create a matrix from a list (of lists)\n",
    "Z = np.asarray(\n",
    "    [\n",
    "        [0, 1, 2], \n",
    "        [3, 4, 5]\n",
    "    ])\n",
    "print(Z)"
   ]
  },
  {
   "cell_type": "code",
   "execution_count": null,
   "metadata": {},
   "outputs": [],
   "source": [
    "# Useful ways to initialize matrices\n",
    "A = np.zeros((5, 3))  # A 5x5 matrix of all 0s\n",
    "print(A)\n",
    "\n",
    "A = np.ones((5, 3))  # A 5x3 matrix of all 1s\n",
    "print(A)\n",
    "\n",
    "A = np.eye(5)  # I matrix of size 5x5\n",
    "print(A)\n",
    "\n",
    "A = np.random.rand(5, 3)  # A random matrix of size 5x3 with numbers between 0 and 1\n",
    "print(A)\n",
    "\n",
    "A = np.random.randint(1, 4, (5, 3)) # A random matrix of integers in (0, 4] of size 5x3\n",
    "print(A)\n"
   ]
  },
  {
   "cell_type": "markdown",
   "metadata": {},
   "source": [
    "### sklearn\n",
    "`sklearn` is a useful machine learning library. It can be installed with\n",
    "```\n",
    "> pip install scikit-learn\n",
    "```"
   ]
  },
  {
   "cell_type": "code",
   "execution_count": null,
   "metadata": {},
   "outputs": [],
   "source": [
    "# An example learning problem. You may use this as a template for homework\n",
    "from sklearn.linear_model import SGDClassifier\n",
    "\n",
    "# This is the feature matrix. There are 7 rows (7 training examples) with\n",
    "# 4 columns (4 features).\n",
    "X = np.asarray(\n",
    "[\n",
    "    [0, 0, 1, 0],\n",
    "    [0, 1, 0, 0],\n",
    "    [0, 0, 1, 1],\n",
    "    [1, 0, 0, 1],\n",
    "    [0, 1, 1, 0],\n",
    "    [1, 1, 0, 0],\n",
    "    [0, 1, 0, 1]\n",
    "])\n",
    "\n",
    "# These are the binary class labels for all 7 instances\n",
    "y = np.asarray([0, 0, 1, 1, 0, 0, 0])\n",
    "\n",
    "# Create the classifier\n",
    "clf = SGDClassifier(loss=\"hinge\", penalty=\"l2\")\n",
    "\n",
    "# Train the classifier on our labeled data\n",
    "clf.fit(X, y)\n",
    "\n",
    "# Use our trained classifier to predict labels for new input data\n",
    "X_test = np.asarray(\n",
    "[\n",
    "    [1, 0, 0, 0],\n",
    "    [0, 1, 1, 1],\n",
    "    [0, 0, 0, 1]\n",
    "])\n",
    "y_pred = clf.predict(X_test)\n",
    "\n",
    "# Let's assume we know the actual labels of `X_test` are this\n",
    "y_test = np.asarray([0, 1, 1])\n",
    "\n",
    "# We can compute the total number of correct classifications:\n",
    "num_correct = sum(y_pred == y_test)\n",
    "total = y_pred.shape[0]\n",
    "print('Accuracy: ' + str(num_correct / total * 100))"
   ]
  },
  {
   "cell_type": "code",
   "execution_count": null,
   "metadata": {},
   "outputs": [],
   "source": []
  },
  {
   "cell_type": "markdown",
   "metadata": {
    "colab_type": "text",
    "id": "0FiAL5If3Wtx"
   },
   "source": [
    "# Pandas Topics"
   ]
  },
  {
   "cell_type": "code",
   "execution_count": null,
   "metadata": {},
   "outputs": [],
   "source": [
    "import pandas as pd\n",
    "import numpy as np\n",
    "\n",
    "# !pip install jupyter_contib_nbextensions"
   ]
  },
  {
   "cell_type": "markdown",
   "metadata": {
    "colab_type": "text",
    "id": "uQUIxvJb3Wty"
   },
   "source": [
    "## Series & DataFrames"
   ]
  },
  {
   "cell_type": "code",
   "execution_count": null,
   "metadata": {
    "colab": {},
    "colab_type": "code",
    "id": "fSm28tZ03Wty"
   },
   "outputs": [],
   "source": [
    "sports = pd.Series(['football', 'basketball',' volleyball','tennis'])\n",
    "\n",
    "population = pd.Series({'Germany': 81.3, 'Belgium': 11.3, 'France': 64.3, \n",
    "                        'United Kingdom': 64.9, 'Netherlands': 16.9})\n",
    "\n",
    "countries = pd.DataFrame({'country': ['Belgium', 'France', 'Germany', 'Netherlands', 'United Kingdom'],\n",
    "        'population': [11.3, 64.3, 81.3, 16.9, 64.9],\n",
    "        'area': [30510, 671308, 357050, 41526, 244820],\n",
    "        'capital': ['Brussels', 'Paris', 'Berlin', 'Amsterdam', 'London']})"
   ]
  },
  {
   "cell_type": "code",
   "execution_count": null,
   "metadata": {
    "colab": {},
    "colab_type": "code",
    "id": "NMUmGqKg3Wt1",
    "outputId": "9e7a4176-a279-4942-e59f-dcb20187594e"
   },
   "outputs": [],
   "source": [
    "sports"
   ]
  },
  {
   "cell_type": "code",
   "execution_count": null,
   "metadata": {
    "colab": {},
    "colab_type": "code",
    "id": "g5gvsCGH3Wt5",
    "outputId": "d21bcd92-275d-43b7-a6d0-c836dc81f0a2"
   },
   "outputs": [],
   "source": [
    "population"
   ]
  },
  {
   "cell_type": "code",
   "execution_count": null,
   "metadata": {
    "colab": {},
    "colab_type": "code",
    "id": "50d4u6So3Wt8",
    "outputId": "241e6007-b561-48d5-e4de-7763710840f4"
   },
   "outputs": [],
   "source": [
    "countries"
   ]
  },
  {
   "cell_type": "code",
   "execution_count": null,
   "metadata": {
    "colab": {},
    "colab_type": "code",
    "id": "feapzLyS3Wt_",
    "outputId": "6e7e933c-1508-46e1-81db-4e49212a8242"
   },
   "outputs": [],
   "source": [
    "type(population)"
   ]
  },
  {
   "cell_type": "code",
   "execution_count": null,
   "metadata": {
    "colab": {},
    "colab_type": "code",
    "id": "GHp3RKmv3WuD",
    "outputId": "64123434-6fe5-4336-e388-bbd871c0a432"
   },
   "outputs": [],
   "source": [
    "sports.index"
   ]
  },
  {
   "cell_type": "code",
   "execution_count": null,
   "metadata": {
    "colab": {},
    "colab_type": "code",
    "id": "gD3-CxRF3WuG",
    "outputId": "30ddcffe-2ccd-4750-a687-2d157d070cd6"
   },
   "outputs": [],
   "source": [
    "population.index"
   ]
  },
  {
   "cell_type": "code",
   "execution_count": null,
   "metadata": {
    "colab": {},
    "colab_type": "code",
    "id": "lrz-rSxe3WuJ",
    "outputId": "efb052e1-b733-40a8-9b8d-776dece12d70"
   },
   "outputs": [],
   "source": [
    "population['Belgium']"
   ]
  },
  {
   "cell_type": "code",
   "execution_count": null,
   "metadata": {
    "colab": {},
    "colab_type": "code",
    "id": "IaUPxsis3WuL",
    "outputId": "f01f9d52-2b05-43ed-b9fd-f7708a8f7c64"
   },
   "outputs": [],
   "source": [
    "population.values"
   ]
  },
  {
   "cell_type": "code",
   "execution_count": null,
   "metadata": {
    "colab": {},
    "colab_type": "code",
    "id": "RSo2vGIX3WuO",
    "outputId": "5b5befaa-4178-4afa-be17-d4b8862ba01e"
   },
   "outputs": [],
   "source": [
    "population/100"
   ]
  },
  {
   "cell_type": "code",
   "execution_count": null,
   "metadata": {
    "colab": {},
    "colab_type": "code",
    "id": "vxDliCc73WuR",
    "outputId": "7ce7be4d-c335-4328-e291-434945ff61b3"
   },
   "outputs": [],
   "source": [
    "type(population.values)"
   ]
  },
  {
   "cell_type": "markdown",
   "metadata": {
    "colab_type": "text",
    "id": "kv3mfF6j3Wub"
   },
   "source": [
    "Accessing dataframe variables using the '.' operator"
   ]
  },
  {
   "cell_type": "code",
   "execution_count": null,
   "metadata": {
    "colab": {},
    "colab_type": "code",
    "id": "J2ddwUeq3Wuc",
    "outputId": "c0512897-2ed2-4f08-b5f9-591315c74383"
   },
   "outputs": [],
   "source": [
    "type(countries.area)"
   ]
  },
  {
   "cell_type": "code",
   "execution_count": null,
   "metadata": {
    "colab": {},
    "colab_type": "code",
    "id": "weQFlPmm3Wue",
    "outputId": "7cd38afb-1d1a-4db7-febd-8b5bdc37e63d"
   },
   "outputs": [],
   "source": [
    "countries.area.values"
   ]
  },
  {
   "cell_type": "code",
   "execution_count": null,
   "metadata": {
    "colab": {},
    "colab_type": "code",
    "id": "yYnI9rSX3Wug",
    "outputId": "2977ce03-99d4-4511-9cf4-dd3f94886283"
   },
   "outputs": [],
   "source": [
    "type(countries.capital.values)"
   ]
  },
  {
   "cell_type": "markdown",
   "metadata": {
    "colab_type": "text",
    "id": "wUU-zkPu3Wuk"
   },
   "source": [
    "## Basic Methods"
   ]
  },
  {
   "cell_type": "code",
   "execution_count": null,
   "metadata": {
    "colab": {},
    "colab_type": "code",
    "id": "d0Y5pQ5J3Wul",
    "outputId": "29df5a45-0f8a-4a3c-9cf9-29f87a4aa9e8"
   },
   "outputs": [],
   "source": [
    "countries.columns"
   ]
  },
  {
   "cell_type": "code",
   "execution_count": null,
   "metadata": {
    "colab": {},
    "colab_type": "code",
    "id": "kGGfvAgu3Wun",
    "outputId": "b2c5d5fc-5698-40f7-ef25-5e79e77fa315"
   },
   "outputs": [],
   "source": [
    "countries.dtypes"
   ]
  },
  {
   "cell_type": "code",
   "execution_count": null,
   "metadata": {
    "colab": {},
    "colab_type": "code",
    "id": "FyV8QA-O3Wuq",
    "outputId": "84db63eb-bcd8-4e50-b442-3ed6d005b814"
   },
   "outputs": [],
   "source": [
    "countries.head(3)"
   ]
  },
  {
   "cell_type": "code",
   "execution_count": null,
   "metadata": {
    "colab": {},
    "colab_type": "code",
    "id": "ejcGv2n63Wus",
    "outputId": "e90f9da1-e0bd-4a00-d8bf-ab7761c80d2a"
   },
   "outputs": [],
   "source": [
    "countries.describe()"
   ]
  },
  {
   "cell_type": "code",
   "execution_count": null,
   "metadata": {
    "colab": {},
    "colab_type": "code",
    "id": "mVPAG1LI3Wuu",
    "outputId": "8a9f526f-b79a-4b11-a8f3-3e95130f92ac"
   },
   "outputs": [],
   "source": [
    "countries.values"
   ]
  },
  {
   "cell_type": "code",
   "execution_count": null,
   "metadata": {
    "colab": {},
    "colab_type": "code",
    "id": "SnsatRQE3Wuw",
    "outputId": "71c030ea-ddcf-4bdc-e2e2-f92e6affd41e"
   },
   "outputs": [],
   "source": [
    "countries.info()"
   ]
  },
  {
   "cell_type": "code",
   "execution_count": null,
   "metadata": {
    "colab": {},
    "colab_type": "code",
    "id": "vXfYKm2h3Wu0",
    "outputId": "f4f6f37c-5b92-4cb7-cf99-bd8f4b8b9e9b"
   },
   "outputs": [],
   "source": [
    "countries.capital.value_counts()"
   ]
  },
  {
   "cell_type": "code",
   "execution_count": null,
   "metadata": {
    "colab": {},
    "colab_type": "code",
    "id": "7cyRKUsw3Wu3",
    "outputId": "eaa9187b-4f1d-4264-ac4f-139a7a9d099e"
   },
   "outputs": [],
   "source": [
    "population"
   ]
  },
  {
   "cell_type": "code",
   "execution_count": null,
   "metadata": {
    "colab": {},
    "colab_type": "code",
    "id": "IOHFtPdB3Wu5",
    "outputId": "d3c97f4b-6d75-4e7e-ee4a-a225a56b6c95"
   },
   "outputs": [],
   "source": [
    "population.reset_index()"
   ]
  },
  {
   "cell_type": "code",
   "execution_count": null,
   "metadata": {
    "colab": {},
    "colab_type": "code",
    "id": "WBxDA9M43Wu9",
    "outputId": "33cb168a-c817-4d93-fc34-f14cd2dcbaef"
   },
   "outputs": [],
   "source": [
    "type(population.reset_index())"
   ]
  },
  {
   "cell_type": "code",
   "execution_count": null,
   "metadata": {
    "colab": {},
    "colab_type": "code",
    "id": "yvHc1RIU3WvA",
    "outputId": "e9dd0c46-50a8-456b-9890-88213bf9921e"
   },
   "outputs": [],
   "source": [
    "countries.capital.value_counts().reset_index()"
   ]
  },
  {
   "cell_type": "markdown",
   "metadata": {
    "colab_type": "text",
    "id": "y6B6PGPK3WvD"
   },
   "source": [
    "## Selecting and Filtering Data"
   ]
  },
  {
   "cell_type": "markdown",
   "metadata": {
    "colab_type": "text",
    "id": "VNh4awSB3WvD"
   },
   "source": [
    "<div class=\"alert alert-warning\">\n",
    "<b>ATTENTION!</b>: <br><br>\n",
    "\n",
    "One of pandas' basic features is the labeling of rows and columns, but this makes indexing also a bit more complex compared to numpy. <br><br> We now have to distuinguish between:\n",
    "\n",
    " <ul>\n",
    "  <li>selection by **label**</li>\n",
    "  <li>selection by **position**</li>\n",
    "</ul>\n",
    "</div>"
   ]
  },
  {
   "cell_type": "code",
   "execution_count": null,
   "metadata": {
    "colab": {},
    "colab_type": "code",
    "id": "M2wtkhQv3WvE"
   },
   "outputs": [],
   "source": [
    "df = pd.read_csv(\"train.csv\")"
   ]
  },
  {
   "cell_type": "code",
   "execution_count": null,
   "metadata": {
    "colab": {},
    "colab_type": "code",
    "id": "ur7YYnvj3WvH",
    "outputId": "1397d57d-2f34-4970-ae25-275443d97d74"
   },
   "outputs": [],
   "source": [
    "df.head()"
   ]
  },
  {
   "cell_type": "markdown",
   "metadata": {
    "colab_type": "text",
    "id": "OLEPQnnC3WvJ"
   },
   "source": [
    "### `data[]` provides some convenience shortcuts "
   ]
  },
  {
   "cell_type": "markdown",
   "metadata": {
    "colab_type": "text",
    "id": "ZdJVL8N33WvK"
   },
   "source": [
    "Selecting a single column"
   ]
  },
  {
   "cell_type": "code",
   "execution_count": null,
   "metadata": {
    "colab": {},
    "colab_type": "code",
    "id": "er7PHioh3WvK",
    "outputId": "5d9e0a23-480b-4d4a-de0a-073bc993f1bd",
    "scrolled": true
   },
   "outputs": [],
   "source": [
    "df['Pclass']  # Can also use df.Pclass"
   ]
  },
  {
   "cell_type": "markdown",
   "metadata": {
    "colab_type": "text",
    "id": "Kpw283_s3WvM"
   },
   "source": [
    "Selecting multiple columns"
   ]
  },
  {
   "cell_type": "code",
   "execution_count": null,
   "metadata": {
    "colab": {},
    "colab_type": "code",
    "id": "Hl-8W-5k3WvO",
    "outputId": "11dc0d95-adbf-4f62-e35f-21cfd6c51e49",
    "scrolled": true
   },
   "outputs": [],
   "source": [
    "df[  ['Pclass','Sex']   ]"
   ]
  },
  {
   "cell_type": "markdown",
   "metadata": {
    "colab_type": "text",
    "id": "02qDfxdx3WvQ"
   },
   "source": [
    "Keep in mind that when we select more than one column, the output is DataFrame and not a series. Hence the difference in formatting of the two outputs above\n",
    "\n",
    "\n",
    "\n",
    "\n",
    "\n",
    "We can also use this syntax to select specific rows"
   ]
  },
  {
   "cell_type": "code",
   "execution_count": null,
   "metadata": {
    "colab": {},
    "colab_type": "code",
    "id": "nINwoPkU3WvS",
    "outputId": "b36acfb3-fb79-4056-b739-22f5541f37c2"
   },
   "outputs": [],
   "source": [
    "df[3:5]"
   ]
  },
  {
   "cell_type": "markdown",
   "metadata": {
    "colab_type": "text",
    "id": "Fh7Flpcx3WvU"
   },
   "source": [
    "### Systematic indexing with `loc` and `iloc`"
   ]
  },
  {
   "cell_type": "markdown",
   "metadata": {
    "colab_type": "text",
    "id": "059P_5z63WvV"
   },
   "source": [
    "When using `[]` like above, you can only select from one axis at once (rows or columns, not both). For more advanced indexing, you have some extra attributes:\n",
    "    \n",
    "* `loc`: selection by label\n",
    "* `iloc`: selection by position\n",
    "\n",
    "These methods index the different dimensions of the frame:\n",
    "\n",
    "* `df.loc[row_indexer, column_indexer]`\n",
    "* `df.iloc[row_indexer, column_indexer]`\n",
    "\n",
    "**As long as the dataframe has no defined indices, loc can do the job of iloc**"
   ]
  },
  {
   "cell_type": "code",
   "execution_count": null,
   "metadata": {
    "colab": {},
    "colab_type": "code",
    "id": "xQdXtta-3WvW",
    "outputId": "b65e1eb9-c545-4171-fdfb-af4b383ba19d"
   },
   "outputs": [],
   "source": [
    "df.loc[4,'Fare']"
   ]
  },
  {
   "cell_type": "code",
   "execution_count": null,
   "metadata": {
    "colab": {},
    "colab_type": "code",
    "id": "htvmMpsi3WvY",
    "outputId": "5db4a51d-af9b-4b95-d429-90ebd46473ac"
   },
   "outputs": [],
   "source": [
    "df.loc[df.Sex=='female']"
   ]
  },
  {
   "cell_type": "code",
   "execution_count": null,
   "metadata": {
    "colab": {},
    "colab_type": "code",
    "id": "ND0E_1qG3Wvc",
    "outputId": "220a9ab4-5ed5-4694-c899-5575e4c8de82",
    "scrolled": true
   },
   "outputs": [],
   "source": [
    "df.loc[df.Sex=='female','Fare']"
   ]
  },
  {
   "cell_type": "code",
   "execution_count": null,
   "metadata": {
    "colab": {},
    "colab_type": "code",
    "id": "H3dvUMgU3Wvf",
    "outputId": "945e7190-8396-4abd-94a6-dcc12a57d12b",
    "scrolled": true
   },
   "outputs": [],
   "source": [
    "df.loc[df.Sex=='female',['Fare','Name','Sex']]"
   ]
  },
  {
   "cell_type": "code",
   "execution_count": null,
   "metadata": {
    "colab": {},
    "colab_type": "code",
    "id": "9eG_FdqP3Wvj",
    "outputId": "612013bb-406c-46b1-e018-f7840859491b"
   },
   "outputs": [],
   "source": [
    "df.loc[df.Sex=='female'][['Fare','Name','Sex']]"
   ]
  },
  {
   "cell_type": "markdown",
   "metadata": {
    "colab_type": "text",
    "id": "B_H6xsS23Wvl"
   },
   "source": [
    "iloc is based on the position of the elements"
   ]
  },
  {
   "cell_type": "code",
   "execution_count": null,
   "metadata": {
    "colab": {},
    "colab_type": "code",
    "id": "mzSCKKG03Wvl",
    "outputId": "f27575bc-3ed7-4bbc-f860-9d50b080f00a"
   },
   "outputs": [],
   "source": [
    "df.iloc[4]"
   ]
  },
  {
   "cell_type": "code",
   "execution_count": null,
   "metadata": {
    "colab": {},
    "colab_type": "code",
    "id": "soLRbg2O3Wvp",
    "outputId": "64ae7f7e-eecf-488a-8525-031230abf294"
   },
   "outputs": [],
   "source": [
    "df.iloc[5:7]"
   ]
  },
  {
   "cell_type": "code",
   "execution_count": null,
   "metadata": {
    "colab": {},
    "colab_type": "code",
    "id": "Qiv2XoOk3Wvu",
    "outputId": "42af5676-defe-48a4-9779-75568ca1b3d4",
    "scrolled": true
   },
   "outputs": [],
   "source": [
    "df.iloc[5:7,'Fare']"
   ]
  },
  {
   "cell_type": "code",
   "execution_count": null,
   "metadata": {
    "colab": {},
    "colab_type": "code",
    "id": "DbklMIL53Wvw",
    "outputId": "c6fcc5a5-2974-46a3-82d8-13cb061a7755"
   },
   "outputs": [],
   "source": [
    "df.iloc[5:7]['Fare']"
   ]
  },
  {
   "cell_type": "code",
   "execution_count": null,
   "metadata": {
    "colab": {},
    "colab_type": "code",
    "id": "k5I87UDz3Wvy",
    "outputId": "eb6bf8c4-9611-4ea5-e162-2c3157ebe7ab"
   },
   "outputs": [],
   "source": [
    "df.iloc[[1,2,3,8]]"
   ]
  },
  {
   "cell_type": "code",
   "execution_count": null,
   "metadata": {},
   "outputs": [],
   "source": [
    "df.loc[[1,2,3,8]]"
   ]
  },
  {
   "cell_type": "code",
   "execution_count": null,
   "metadata": {},
   "outputs": [],
   "source": [
    "population"
   ]
  },
  {
   "cell_type": "code",
   "execution_count": null,
   "metadata": {},
   "outputs": [],
   "source": [
    "population.loc[0]"
   ]
  },
  {
   "cell_type": "markdown",
   "metadata": {
    "colab_type": "text",
    "id": "DPmh7P0U3Wv0"
   },
   "source": [
    "The different indexing methods can also be used to assign data:"
   ]
  },
  {
   "cell_type": "code",
   "execution_count": null,
   "metadata": {
    "colab": {},
    "colab_type": "code",
    "id": "RdZEXCWa3Wv2"
   },
   "outputs": [],
   "source": [
    "df2 = df.copy()\n",
    "\n",
    "df2.loc[0,'Fare'] = -100.0"
   ]
  },
  {
   "cell_type": "code",
   "execution_count": null,
   "metadata": {
    "colab": {},
    "colab_type": "code",
    "id": "BD32H7E33Wv3",
    "outputId": "4a62cd87-3e2f-4aa1-bd45-422feafb24ac"
   },
   "outputs": [],
   "source": [
    "df2.head()"
   ]
  },
  {
   "cell_type": "markdown",
   "metadata": {
    "colab_type": "text",
    "id": "r8Hutjj33Wv7"
   },
   "source": [
    "## Creating New Variables"
   ]
  },
  {
   "cell_type": "code",
   "execution_count": null,
   "metadata": {
    "colab": {},
    "colab_type": "code",
    "id": "GLX0JKmh3Wv8",
    "outputId": "c364f486-ed20-4a7e-8b7a-85a690ae906c"
   },
   "outputs": [],
   "source": [
    "countries['newVar'] = [1,2,3,4,5]                   #Basic assignment\n",
    "countries"
   ]
  },
  {
   "cell_type": "code",
   "execution_count": null,
   "metadata": {
    "colab": {},
    "colab_type": "code",
    "id": "-bSg2OEw3Wv-",
    "outputId": "22c70a98-e015-4cef-c56b-5d4fffb9884d"
   },
   "outputs": [],
   "source": [
    "countries['newVar'] = countries.population * 2  + countries.area**0.5   #Using existing columns\n",
    "countries"
   ]
  },
  {
   "cell_type": "markdown",
   "metadata": {
    "colab_type": "text",
    "id": "DJQGn_eV3WwA"
   },
   "source": [
    "### Using apply\n",
    "\n",
    "Apply is a very powerful method which can be used for making major data manipulation tasks"
   ]
  },
  {
   "cell_type": "code",
   "execution_count": null,
   "metadata": {
    "colab": {},
    "colab_type": "code",
    "id": "QlU1Z6_D3WwA",
    "outputId": "57644657-75f4-47f9-9423-daf53dfb8eed"
   },
   "outputs": [],
   "source": [
    "countries['capital_upper'] = countries['capital'].apply(lambda x : x.upper())\n",
    "countries"
   ]
  },
  {
   "cell_type": "code",
   "execution_count": null,
   "metadata": {
    "colab": {},
    "colab_type": "code",
    "id": "hgdsJygi3WwC"
   },
   "outputs": [],
   "source": [
    "def ageBucket(x):\n",
    "    if x<18:\n",
    "        return \"A. <18\"\n",
    "    elif x<25:\n",
    "        return \"B. 18-25\"\n",
    "    elif x<45:\n",
    "        return \"C. 25-45\"\n",
    "    else:\n",
    "        return \"D. >45\"\n",
    "        "
   ]
  },
  {
   "cell_type": "markdown",
   "metadata": {
    "colab_type": "text",
    "id": "_7N8t6Au3WwD"
   },
   "source": [
    "Apply can be used on a single column (Series object)"
   ]
  },
  {
   "cell_type": "code",
   "execution_count": null,
   "metadata": {
    "colab": {},
    "colab_type": "code",
    "id": "JPubA06U3WwD",
    "outputId": "a278b52f-e914-4ac9-fec5-4614e2c42632"
   },
   "outputs": [],
   "source": [
    "df['AgeBucket'] = df['Age'].apply(lambda x : ageBucket(x))\n",
    "df.head()"
   ]
  },
  {
   "cell_type": "markdown",
   "metadata": {
    "colab_type": "text",
    "id": "Stcvjvwf3WwG"
   },
   "source": [
    "It can also be used on an entire dataframe"
   ]
  },
  {
   "cell_type": "code",
   "execution_count": null,
   "metadata": {
    "colab": {},
    "colab_type": "code",
    "id": "iP5xHhod3WwH",
    "outputId": "4deeec3c-af17-425e-fbf7-92453835404b"
   },
   "outputs": [],
   "source": [
    "df['AgeBucket2'] = df.apply(lambda x : ageBucket(x['Age']),axis=1)\n",
    "df.head()"
   ]
  },
  {
   "cell_type": "markdown",
   "metadata": {
    "colab_type": "text",
    "id": "sgR92Mms3WwI"
   },
   "source": [
    "Other derivative methods that you can look into : `map` and `applymap`"
   ]
  },
  {
   "cell_type": "markdown",
   "metadata": {
    "colab_type": "text",
    "id": "rHZN9Wj63WwJ"
   },
   "source": [
    "## Groupby Operations"
   ]
  },
  {
   "cell_type": "markdown",
   "metadata": {
    "colab_type": "text",
    "id": "CFo0Wrqm3WwJ"
   },
   "source": [
    "### Some 'theory': the groupby operation (split-apply-combine)\n",
    "\n",
    "The \"group by\" concept: we want to **apply the same function on subsets of your dataframe, based on some key to split the dataframe in subsets**\n",
    "\n",
    "This operation is also referred to as the \"split-apply-combine\" operation, involving the following steps:\n",
    "\n",
    "* **Splitting** the data into groups based on some criteria\n",
    "* **Applying** a function to each group independently\n",
    "* **Combining** the results into a data structure\n",
    "\n",
    "<img src=\"pandas-tutorial-master/img/splitApplyCombine.png\">\n",
    "\n",
    "Similar to SQL `GROUP BY`"
   ]
  },
  {
   "cell_type": "code",
   "execution_count": null,
   "metadata": {
    "colab": {},
    "colab_type": "code",
    "id": "FAj20Vve3WwK",
    "outputId": "62dbb688-69bb-478f-c584-ad56e484cc15"
   },
   "outputs": [],
   "source": [
    "df.groupby('Sex')"
   ]
  },
  {
   "cell_type": "code",
   "execution_count": null,
   "metadata": {
    "colab": {},
    "colab_type": "code",
    "id": "s_ELuau23WwL",
    "outputId": "cc0b39d9-27fe-45b6-c538-57ba0e193833"
   },
   "outputs": [],
   "source": [
    "df.groupby(\"Sex\").mean()"
   ]
  },
  {
   "cell_type": "code",
   "execution_count": null,
   "metadata": {
    "colab": {},
    "colab_type": "code",
    "id": "xyBFxiNJ3WwN",
    "outputId": "261491de-8525-4cf9-d7c8-2c67f9155028"
   },
   "outputs": [],
   "source": [
    "df.groupby('Sex').max()"
   ]
  },
  {
   "cell_type": "code",
   "execution_count": null,
   "metadata": {
    "colab": {},
    "colab_type": "code",
    "id": "0pwARtVh3WwO",
    "outputId": "2ec78821-5562-4d31-f418-14f4e8f53ea6"
   },
   "outputs": [],
   "source": [
    "def getRange(x):\n",
    "    \n",
    "    minVal = np.min(x.Fare)\n",
    "    maxVal = np.max(x.Fare)\n",
    "    \n",
    "    return maxVal - minVal\n",
    "\n",
    "\n",
    "df.groupby('Pclass').apply(lambda x : getRange(x))"
   ]
  },
  {
   "cell_type": "markdown",
   "metadata": {
    "colab_type": "text",
    "id": "AGu1111T3WwQ"
   },
   "source": [
    "Grouping on multiple columns"
   ]
  },
  {
   "cell_type": "code",
   "execution_count": null,
   "metadata": {
    "colab": {},
    "colab_type": "code",
    "id": "VHpnkv9d3WwQ",
    "outputId": "198cb2e6-0342-463b-b5f7-2175e3f8dfca"
   },
   "outputs": [],
   "source": [
    "df.groupby(['Sex','Pclass']).mean()"
   ]
  },
  {
   "cell_type": "code",
   "execution_count": null,
   "metadata": {
    "colab": {},
    "colab_type": "code",
    "id": "JE8wmhMq3WwS",
    "outputId": "e178bfa7-d55d-4d81-ad08-08b34f7fb9d9"
   },
   "outputs": [],
   "source": [
    "df.groupby(['Sex','Pclass'])['Age'].mean()"
   ]
  },
  {
   "cell_type": "code",
   "execution_count": null,
   "metadata": {
    "colab": {},
    "colab_type": "code",
    "id": "yapH_edp3WwY",
    "outputId": "12719c5d-f4b4-430a-cae3-12011be7236a"
   },
   "outputs": [],
   "source": [
    "df.groupby('Sex').agg({'PassengerId':'min', 'Age':'max','Fare':'sum'})"
   ]
  },
  {
   "cell_type": "markdown",
   "metadata": {
    "colab_type": "text",
    "id": "WpyIS_Bn3Wwb"
   },
   "source": [
    "## Merge Operations"
   ]
  },
  {
   "cell_type": "markdown",
   "metadata": {
    "colab_type": "text",
    "id": "IPGG_g1H3Wwb"
   },
   "source": [
    "Merging with Pandas works pretty much the same as SQL. There are four merge methods:\n",
    "1. Left\n",
    "2. Right\n",
    "3. Inner \n",
    "4. Outer\n",
    "\n",
    "Basic syntax : pd.merge(left_dataframe, right_dataframe, left_on=\"some_column\", right_on=\"some_column\", how=\"left|right|inner|outer)`"
   ]
  },
  {
   "cell_type": "code",
   "execution_count": null,
   "metadata": {
    "colab": {},
    "colab_type": "code",
    "id": "mzFKDI6I3Wwb"
   },
   "outputs": [],
   "source": [
    "population = pd.DataFrame({'country': ['Germany', 'Belgium', 'France', \n",
    "                        'United Kingdom', 'United States'],'population': [81.3, 11.3, 64.3, 64.9, 65.9]})\n",
    "\n",
    "countries = pd.DataFrame({'country': ['Belgium', 'France', 'Germany', 'Netherlands', 'United Kingdom'],\n",
    "        'population': [11.3, 64.3, 81.3, 16.9, 64.9],\n",
    "        'area': [30510, 671308, 357050, 41526, 244820],\n",
    "        'capital': ['Brussels', 'Paris', 'Berlin', 'Amsterdam', 'London']})"
   ]
  },
  {
   "cell_type": "code",
   "execution_count": null,
   "metadata": {
    "colab": {},
    "colab_type": "code",
    "id": "ntbRi4xh3Wwd",
    "outputId": "fd6d474e-a741-41bf-d92c-b7165d159f32"
   },
   "outputs": [],
   "source": [
    "population"
   ]
  },
  {
   "cell_type": "code",
   "execution_count": null,
   "metadata": {
    "colab": {},
    "colab_type": "code",
    "id": "ec1g-uJw3Wwf",
    "outputId": "a2404fe5-66d5-41bc-9596-61e1a8b05044"
   },
   "outputs": [],
   "source": [
    "countries"
   ]
  },
  {
   "cell_type": "markdown",
   "metadata": {
    "colab_type": "text",
    "id": "gaU4-kzk3Wwi"
   },
   "source": [
    "In a Left Merge we are mostly concerned with data on the LEFT side but we would like to add data from \n",
    "the RIGHT side if it has some of the same countries in this case."
   ]
  },
  {
   "cell_type": "code",
   "execution_count": null,
   "metadata": {
    "colab": {},
    "colab_type": "code",
    "id": "Ffn5Rf3V3Wwj",
    "outputId": "86443497-67de-491d-bf65-09c806f0f885"
   },
   "outputs": [],
   "source": [
    "pd.merge(left=population, right=countries, on=\"country\", how=\"left\")"
   ]
  },
  {
   "cell_type": "markdown",
   "metadata": {
    "colab_type": "text",
    "id": "lRHV_k3Q3Wwl"
   },
   "source": [
    "In a Right Merge we are mostly concerned with data on the RIGHT side but we would like to add data from \n",
    "the LEFT side if it has some of the same countries in this case."
   ]
  },
  {
   "cell_type": "code",
   "execution_count": null,
   "metadata": {
    "colab": {},
    "colab_type": "code",
    "id": "rEAd4weA3Wwn",
    "outputId": "b3f586ae-7af4-4e2a-e5e8-40b51827dbcd"
   },
   "outputs": [],
   "source": [
    "pd.merge(left=population, right=countries, on=\"country\", how=\"right\")"
   ]
  },
  {
   "cell_type": "markdown",
   "metadata": {
    "colab_type": "text",
    "id": "sGVgL1O73Wwp"
   },
   "source": [
    "With an Inner Merge, we chop up both dataframes and only glue the stuff that matches. If a country isn't in both \n",
    "dataframes, we don't keep it and we don't add NaN's. If no type of join is mentioned, then inner join is the \n",
    "default join. "
   ]
  },
  {
   "cell_type": "code",
   "execution_count": null,
   "metadata": {
    "colab": {},
    "colab_type": "code",
    "id": "cumuNz1-3Wwp",
    "outputId": "b75b0625-2e1c-46b4-d7da-52f61caebfab"
   },
   "outputs": [],
   "source": [
    "pd.merge(left=population, right=countries,on ='country')"
   ]
  },
  {
   "cell_type": "code",
   "execution_count": null,
   "metadata": {
    "colab": {},
    "colab_type": "code",
    "id": "ZwK5dcNV3Wwq",
    "outputId": "cc93f086-494e-470a-8baf-fcceefeba064"
   },
   "outputs": [],
   "source": [
    "pd.merge(left=population, right=countries,on ='country', how = \"inner\")"
   ]
  },
  {
   "cell_type": "markdown",
   "metadata": {
    "colab_type": "text",
    "id": "xbnDLQwd3Wws"
   },
   "source": [
    "With an Outer Merge, we chop up both dataframes and keep everything from both sides. Then we toss in NaN's to fill\n",
    "any blanks."
   ]
  },
  {
   "cell_type": "code",
   "execution_count": null,
   "metadata": {
    "colab": {},
    "colab_type": "code",
    "id": "uwv0vZka3Wws",
    "outputId": "e114fdc3-c3ad-4af0-9e6e-fa507d0687f4"
   },
   "outputs": [],
   "source": [
    "pd.merge(left=population, right=countries,on ='country', how = \"outer\")"
   ]
  },
  {
   "cell_type": "markdown",
   "metadata": {
    "colab_type": "text",
    "heading_collapsed": true,
    "id": "fTEpNhD13Wwt"
   },
   "source": [
    "## Reading Files"
   ]
  },
  {
   "cell_type": "code",
   "execution_count": null,
   "metadata": {
    "colab": {},
    "colab_type": "code",
    "hidden": true,
    "id": "V88hkF283Wwu"
   },
   "outputs": [],
   "source": [
    "sales_data = pd.read_csv('pandas-tutorial-master/data/blooth_sales_data.csv')"
   ]
  },
  {
   "cell_type": "code",
   "execution_count": null,
   "metadata": {
    "colab": {},
    "colab_type": "code",
    "hidden": true,
    "id": "YpSCbc2r3Wwu",
    "outputId": "952e894d-236d-408f-f1d4-4741f4d77537"
   },
   "outputs": [],
   "source": [
    "sales_data.head(5)"
   ]
  },
  {
   "cell_type": "code",
   "execution_count": null,
   "metadata": {
    "colab": {},
    "colab_type": "code",
    "hidden": true,
    "id": "IYXmyTue3Www"
   },
   "outputs": [],
   "source": [
    "# header = 0 denotes the first line of data. If nothing is mentioned about header, then header = 0 is default.\n",
    "sales_data2 = pd.read_csv('pandas-tutorial-master/data/blooth_sales_data.csv', header = 0)"
   ]
  },
  {
   "cell_type": "code",
   "execution_count": null,
   "metadata": {
    "colab": {},
    "colab_type": "code",
    "hidden": true,
    "id": "JfhKhkSQ3Www",
    "outputId": "76962658-3b41-4092-caf7-877bbcf204ea"
   },
   "outputs": [],
   "source": [
    "sales_data2.head(5)"
   ]
  },
  {
   "cell_type": "code",
   "execution_count": null,
   "metadata": {
    "colab": {},
    "colab_type": "code",
    "hidden": true,
    "id": "2lpgq01a3Wwy",
    "outputId": "7169e48f-a414-4476-8d16-a6354296e67c"
   },
   "outputs": [],
   "source": [
    "sales_data3 = pd.read_csv('pandas-tutorial-master/data/blooth_sales_data.csv', header = None)\n",
    "sales_data3.head(5)"
   ]
  },
  {
   "cell_type": "code",
   "execution_count": null,
   "metadata": {
    "colab": {},
    "colab_type": "code",
    "hidden": true,
    "id": "ZwkwAs2s3Wwz",
    "outputId": "778e2947-e346-4939-dac8-a76342ea160d"
   },
   "outputs": [],
   "source": [
    "sales_data = pd.read_csv('pandas-tutorial-master/data/blooth_sales_data.csv', usecols=['name', 'birthday'])\n",
    "sales_data.head(5)"
   ]
  },
  {
   "cell_type": "code",
   "execution_count": null,
   "metadata": {
    "colab": {},
    "colab_type": "code",
    "hidden": true,
    "id": "wKKTODqd3Ww3",
    "outputId": "f47b30e5-ae24-4046-a348-ae815f35d6cf"
   },
   "outputs": [],
   "source": [
    "sales_data = pd.read_csv('pandas-tutorial-master/data/blooth_sales_data.csv', header= None, skiprows=2)\n",
    "sales_data.columns= ['name', 'birthday','customer','orderadate','product','units','unitprice']\n",
    "sales_data.head(2)"
   ]
  },
  {
   "cell_type": "code",
   "execution_count": null,
   "metadata": {
    "colab": {},
    "colab_type": "code",
    "hidden": true,
    "id": "mu60xXuG3Ww5",
    "outputId": "420f645f-0de1-4063-d4ac-9c6f5571b3a4"
   },
   "outputs": [],
   "source": [
    "# The date parse is US datew friendly! MM/DD/YYYY\n",
    "\n",
    "\n",
    "sales_data = pd.read_csv('pandas-tutorial-master/data/blooth_sales_data.csv',parse_dates=['birthday', 'orderdate'])\n",
    "sales_data.head(2)                     "
   ]
  },
  {
   "cell_type": "code",
   "execution_count": null,
   "metadata": {
    "colab": {},
    "colab_type": "code",
    "hidden": true,
    "id": "5VFeUlcT3Ww_",
    "outputId": "974dc29c-a68f-4bef-e7be-6ea943646811"
   },
   "outputs": [],
   "source": [
    "# To use the more common international format for sure, add 'dayfirst=True'\n",
    "sales_data = pd.read_csv('pandas-tutorial-master/data/blooth_sales_data.csv',parse_dates=['birthday', 'orderdate'], dayfirst=True)\n",
    "sales_data.head(2) "
   ]
  },
  {
   "cell_type": "code",
   "execution_count": null,
   "metadata": {
    "colab": {},
    "colab_type": "code",
    "hidden": true,
    "id": "aNNmEloL3WxD",
    "outputId": "d274db76-ca9e-45ba-f220-73f350891f3a"
   },
   "outputs": [],
   "source": [
    "sales_data.dtypes"
   ]
  },
  {
   "cell_type": "code",
   "execution_count": null,
   "metadata": {
    "colab": {},
    "colab_type": "code",
    "hidden": true,
    "id": "UpocT9mQ3WxE",
    "outputId": "c9eb0f6c-a137-4f83-c9b4-e3aafbc0eea4"
   },
   "outputs": [],
   "source": [
    "sales_data['modified_orderdate'] = sales_data['orderdate'].apply(lambda x: \"%d/%d/%d\" % (x.day, x.month, x.year))\n",
    "sales_data.head(4)"
   ]
  },
  {
   "cell_type": "code",
   "execution_count": null,
   "metadata": {
    "colab": {},
    "colab_type": "code",
    "hidden": true,
    "id": "9vRxeCBg3WxG",
    "outputId": "c20cecf4-44cd-460c-ab5c-d12078850bf8"
   },
   "outputs": [],
   "source": [
    "sales_data.dtypes"
   ]
  },
  {
   "cell_type": "code",
   "execution_count": null,
   "metadata": {
    "colab": {},
    "colab_type": "code",
    "hidden": true,
    "id": "6hnXPGkM3WxK",
    "outputId": "3fadae33-10f1-42f1-ac55-1b86700c1fff"
   },
   "outputs": [],
   "source": [
    "sales_data['Hour'] = sales_data['orderdate'].apply(lambda x: \"%d\" % (x.hour))\n",
    "sales_data.head(4)"
   ]
  },
  {
   "cell_type": "code",
   "execution_count": null,
   "metadata": {
    "colab": {},
    "colab_type": "code",
    "hidden": true,
    "id": "VN-p4LTg3WxL",
    "outputId": "85ae2140-e221-4995-e433-0751ada94dc4"
   },
   "outputs": [],
   "source": [
    "sales_data[\"modified_orderdate\"]= pd.to_datetime(sales_data[\"modified_orderdate\"])\n",
    "sales_data.head(4)\n",
    "sales_data.dtypes"
   ]
  },
  {
   "cell_type": "code",
   "execution_count": null,
   "metadata": {
    "colab": {},
    "colab_type": "code",
    "hidden": true,
    "id": "vk_Mm7x63WxP",
    "outputId": "f2b355c7-1f1a-45dd-b27c-b69661ce9fa5"
   },
   "outputs": [],
   "source": [
    "sales_data['birth_month'] = sales_data['birthday'].dt.month\n",
    "sales_data.head(4)"
   ]
  },
  {
   "cell_type": "code",
   "execution_count": null,
   "metadata": {
    "colab": {},
    "colab_type": "code",
    "hidden": true,
    "id": "SOcFohvD3WxV",
    "outputId": "4cbe59ba-7efc-4276-fbeb-217938e63fd9"
   },
   "outputs": [],
   "source": [
    "sales_data_json = pd.read_json('pandas-tutorial-master/data/blooth_sales_data.json')\n",
    "sales_data_json.head(5)"
   ]
  },
  {
   "cell_type": "markdown",
   "metadata": {
    "colab_type": "text",
    "heading_collapsed": true,
    "id": "8lxbwUHH3WxX"
   },
   "source": [
    "## Missing Data\n",
    "How to handle missing data (NaN's)? Most common commands used are fillna and dropna. "
   ]
  },
  {
   "cell_type": "code",
   "execution_count": null,
   "metadata": {
    "colab": {},
    "colab_type": "code",
    "hidden": true,
    "id": "Z4sbjPoR3WxX",
    "outputId": "15c30805-dd86-47e0-d689-5229e49639d9"
   },
   "outputs": [],
   "source": [
    "missing_df = pd.DataFrame(np.random.randn(5, 3), index=['a', 'c', 'e', 'f', 'h'],columns=['one', 'two', 'three'])\n",
    "missing_df['four'] = 'bar'\n",
    "missing_df['five'] = missing_df['one'] > 0\n",
    "missing_df.loc[['a','c','h'],['one','four']] = np.nan\n",
    "missing_df"
   ]
  },
  {
   "cell_type": "code",
   "execution_count": null,
   "metadata": {
    "colab": {},
    "colab_type": "code",
    "hidden": true,
    "id": "cOAic3gb3WxZ",
    "outputId": "43239631-3604-41d4-9d4d-19371a6d01b9"
   },
   "outputs": [],
   "source": [
    "# fillna replaces NA/NAN values with the given value in the command.\n",
    "missing_df.fillna(0)"
   ]
  },
  {
   "cell_type": "code",
   "execution_count": null,
   "metadata": {
    "colab": {},
    "colab_type": "code",
    "hidden": true,
    "id": "UcJud3dn3Wxf",
    "outputId": "2a8f7f11-3b00-4e83-9706-b4ad7cd54633"
   },
   "outputs": [],
   "source": [
    "missing_df['one'].fillna('missing')"
   ]
  },
  {
   "cell_type": "markdown",
   "metadata": {
    "colab_type": "text",
    "hidden": true,
    "id": "L4dr81_h3Wxh"
   },
   "source": [
    "Dropna is used to drop the rows or columns with NA/NAN values.\n",
    "<br>\n",
    "'axis' argument determines if rows or columns which contain missing values are removed.\n",
    "<br>\n",
    "'axis =0': Drop rows which contain missing values. \n",
    "<br>\n",
    "'axis =1': Drop columns which contain missing value.\n",
    "<br>\n",
    "\n",
    "\n",
    "'how' argument determines if row or column is removed from DataFrame, when we have at least one NA or all NA.\n",
    "<br>\n",
    "‘how = any’ : If any NA values are present, drop that row or column. (default)\n",
    "<br>\n",
    "‘how = all’ : If all values are NA, drop that row or column.\n",
    "<br>"
   ]
  },
  {
   "cell_type": "code",
   "execution_count": null,
   "metadata": {
    "colab": {},
    "colab_type": "code",
    "hidden": true,
    "id": "LDrcfuDH3Wxi",
    "outputId": "cef3e60b-63d1-429b-e028-254130e2a844"
   },
   "outputs": [],
   "source": [
    "missing_df.dropna(axis=0)"
   ]
  },
  {
   "cell_type": "code",
   "execution_count": null,
   "metadata": {
    "colab": {},
    "colab_type": "code",
    "hidden": true,
    "id": "eRLSnqGz3Wxk",
    "outputId": "a1dae978-f597-4d46-8906-860e8ee61634"
   },
   "outputs": [],
   "source": [
    "missing_df.dropna(axis=1)"
   ]
  },
  {
   "cell_type": "code",
   "execution_count": null,
   "metadata": {
    "colab": {},
    "colab_type": "code",
    "hidden": true,
    "id": "t875iBcc3Wxo",
    "outputId": "3a3177be-157c-4b41-ed3e-6ff8c150210c"
   },
   "outputs": [],
   "source": [
    "missing_df['six'] = np.nan\n",
    "missing_df"
   ]
  },
  {
   "cell_type": "code",
   "execution_count": null,
   "metadata": {
    "colab": {},
    "colab_type": "code",
    "hidden": true,
    "id": "OG27aNrA3Wxq",
    "outputId": "8d271f6a-57e9-4968-da8a-c6f05e968c12"
   },
   "outputs": [],
   "source": [
    "missing_df.dropna(axis=1, how = 'all')"
   ]
  },
  {
   "cell_type": "code",
   "execution_count": null,
   "metadata": {
    "colab": {},
    "colab_type": "code",
    "hidden": true,
    "id": "v-MB5Pl73Wxr",
    "outputId": "66e850c0-045c-446e-a286-cfc3a40747bd"
   },
   "outputs": [],
   "source": [
    "#dropping rows only where some columns are missing\n",
    "missing_df.dropna(subset = ['one', 'two', 'four'])"
   ]
  },
  {
   "cell_type": "code",
   "execution_count": null,
   "metadata": {
    "colab": {},
    "colab_type": "code",
    "hidden": true,
    "id": "u4WwTo6S3Wxx",
    "outputId": "f768dfc4-a4a5-4cc8-b671-c297a47eafcd"
   },
   "outputs": [],
   "source": [
    "df.head()"
   ]
  },
  {
   "cell_type": "markdown",
   "metadata": {
    "colab_type": "text",
    "heading_collapsed": true,
    "id": "tT4ZKgxm3Wx0"
   },
   "source": [
    "# Exercises"
   ]
  },
  {
   "cell_type": "markdown",
   "metadata": {
    "colab_type": "text",
    "hidden": true,
    "id": "HiQmv6HV3Wx0"
   },
   "source": [
    "## Titanic"
   ]
  },
  {
   "cell_type": "code",
   "execution_count": null,
   "metadata": {
    "colab": {},
    "colab_type": "code",
    "hidden": true,
    "id": "BE99grfO3Wx1",
    "outputId": "ade959e5-a120-4d51-a08b-751e73ff561f"
   },
   "outputs": [],
   "source": [
    "df.head()"
   ]
  },
  {
   "cell_type": "markdown",
   "metadata": {
    "colab_type": "text",
    "hidden": true,
    "id": "6XBMUadX3Wx5"
   },
   "source": [
    "Calculate the number of passengers with Pclass = 3"
   ]
  },
  {
   "cell_type": "code",
   "execution_count": null,
   "metadata": {
    "colab": {},
    "colab_type": "code",
    "hidden": true,
    "id": "rXr_SK_c3Wx7"
   },
   "outputs": [],
   "source": []
  },
  {
   "cell_type": "markdown",
   "metadata": {
    "colab_type": "text",
    "hidden": true,
    "id": "GFA7Yn-H3Wx8"
   },
   "source": [
    "Compute the percentage of passengers that survived"
   ]
  },
  {
   "cell_type": "code",
   "execution_count": null,
   "metadata": {
    "colab": {},
    "colab_type": "code",
    "hidden": true,
    "id": "IRkoto_v3Wx8"
   },
   "outputs": [],
   "source": []
  },
  {
   "cell_type": "markdown",
   "metadata": {
    "colab_type": "text",
    "hidden": true,
    "id": "Ej80X4cl3Wx9"
   },
   "source": [
    "How many children below the age of 18?"
   ]
  },
  {
   "cell_type": "code",
   "execution_count": null,
   "metadata": {
    "colab": {},
    "colab_type": "code",
    "hidden": true,
    "id": "C1ezst8B3Wx-"
   },
   "outputs": [],
   "source": []
  },
  {
   "cell_type": "markdown",
   "metadata": {
    "colab_type": "text",
    "hidden": true,
    "id": "SvEOxQ9a3Wx_"
   },
   "source": [
    "Whats the ratio of male and female passengers?"
   ]
  },
  {
   "cell_type": "code",
   "execution_count": null,
   "metadata": {
    "colab": {},
    "colab_type": "code",
    "hidden": true,
    "id": "y1L20dpS3WyA"
   },
   "outputs": [],
   "source": []
  },
  {
   "cell_type": "markdown",
   "metadata": {
    "colab_type": "text",
    "hidden": true,
    "id": "G4vqjRwT3WyE"
   },
   "source": [
    "Between the two genders, whats the ratio of passengers that survived?"
   ]
  },
  {
   "cell_type": "code",
   "execution_count": null,
   "metadata": {
    "colab": {},
    "colab_type": "code",
    "hidden": true,
    "id": "JR1WrisY3WyE"
   },
   "outputs": [],
   "source": []
  },
  {
   "cell_type": "markdown",
   "metadata": {
    "colab_type": "text",
    "hidden": true,
    "id": "q6JcJaQN3WyF"
   },
   "source": [
    "Create a new variable which has 0 for male and 1 for female. Name this variable **LabelEncode_Sex**"
   ]
  },
  {
   "cell_type": "code",
   "execution_count": null,
   "metadata": {
    "colab": {},
    "colab_type": "code",
    "hidden": true,
    "id": "nyfw6dyY3WyG"
   },
   "outputs": [],
   "source": []
  },
  {
   "cell_type": "markdown",
   "metadata": {
    "colab_type": "text",
    "hidden": true,
    "id": "2sIdQgEw3WyH"
   },
   "source": [
    "Create a variable that takes the value of 1 when Pclass is 1 and 0 otherwise. Create similar variables for when Pclass has a value of 2 and 3.\n",
    "\n",
    "Name these variables **OHE_PClass1, OHE_PClass2, OHE_PClass3** respectively "
   ]
  },
  {
   "cell_type": "code",
   "execution_count": null,
   "metadata": {
    "colab": {},
    "colab_type": "code",
    "hidden": true,
    "id": "J9BFY3Ja3WyI"
   },
   "outputs": [],
   "source": [
    "\n"
   ]
  },
  {
   "cell_type": "markdown",
   "metadata": {
    "colab_type": "text",
    "hidden": true,
    "id": "hM3jPG4s3WyK"
   },
   "source": [
    "Calculate the mean fare for all samples with an odd index"
   ]
  },
  {
   "cell_type": "code",
   "execution_count": null,
   "metadata": {
    "colab": {},
    "colab_type": "code",
    "hidden": true,
    "id": "xqia6PYr3WyM"
   },
   "outputs": [],
   "source": []
  },
  {
   "cell_type": "markdown",
   "metadata": {
    "colab_type": "text",
    "hidden": true,
    "id": "OUT8jkNh3WyO"
   },
   "source": [
    "Create a new variable which stores the last name of passengers"
   ]
  },
  {
   "cell_type": "code",
   "execution_count": null,
   "metadata": {
    "colab": {},
    "colab_type": "code",
    "hidden": true,
    "id": "3DpxXxMR3WyO",
    "outputId": "33eb55dc-8b75-487c-d19f-2db7bd85c1a8"
   },
   "outputs": [],
   "source": []
  },
  {
   "cell_type": "markdown",
   "metadata": {
    "colab_type": "text",
    "hidden": true,
    "id": "Atr4PLVj3WyR"
   },
   "source": [
    "Calculate the number of unique families ( based on last names)"
   ]
  },
  {
   "cell_type": "code",
   "execution_count": null,
   "metadata": {
    "colab": {},
    "colab_type": "code",
    "hidden": true,
    "id": "ntu_MpxC3WyR",
    "outputId": "47da1eb6-ab29-4151-aa46-af441f645f5b"
   },
   "outputs": [],
   "source": []
  },
  {
   "cell_type": "markdown",
   "metadata": {
    "colab_type": "text",
    "hidden": true,
    "id": "ev08MwE13WyW"
   },
   "source": [
    "Create a variable that indicates the **size of the family** for each passenger. *Family size is the number of passengers with the same family name*"
   ]
  },
  {
   "cell_type": "code",
   "execution_count": null,
   "metadata": {
    "colab": {},
    "colab_type": "code",
    "hidden": true,
    "id": "ZmxAUjkq3WyZ",
    "outputId": "3f3ba872-33e9-44b0-a1d9-6e0ce49739a8"
   },
   "outputs": [],
   "source": []
  },
  {
   "cell_type": "markdown",
   "metadata": {
    "colab_type": "text",
    "hidden": true,
    "id": "pCaIJQ6R3Wyc"
   },
   "source": [
    "#### Fare by Cabin Index\n",
    "\n",
    "All cabin numbers begin with a letter. We hypothesize that this first letter actually has a significance. So create a new variable that stores the first letter of the cabin variable. Call this **CabinIndex**.\n",
    "\n",
    "NOTE : The cabin variable has missing values. Also check for the data type of the Cabin variable.\n",
    "\n",
    "Once you have created the CabinIndex variable, calculate the mean value of fare for different levels of CabinIndex"
   ]
  },
  {
   "cell_type": "code",
   "execution_count": null,
   "metadata": {
    "colab": {},
    "colab_type": "code",
    "hidden": true,
    "id": "qxo2LVAx3Wyd"
   },
   "outputs": [],
   "source": []
  },
  {
   "cell_type": "markdown",
   "metadata": {
    "colab_type": "text",
    "heading_collapsed": true,
    "hidden": true,
    "id": "TzhoCk0C3Wyk"
   },
   "source": [
    "## Sales Data"
   ]
  },
  {
   "cell_type": "markdown",
   "metadata": {
    "colab_type": "text",
    "hidden": true,
    "id": "wUpkw4X53Wyk"
   },
   "source": [
    "For sales_data, create a variable named mean_units which is the average of all units when the birth month lies between Feb and August."
   ]
  },
  {
   "cell_type": "code",
   "execution_count": null,
   "metadata": {
    "colab": {},
    "colab_type": "code",
    "hidden": true,
    "id": "2xfFNH-g3Wyl"
   },
   "outputs": [],
   "source": [
    "sales_data = pd.read_csv('pandas-tutorial-master/data/blooth_sales_data.csv')\n",
    "sales_data.dtypes\n",
    "sales_data[\"birthday\"]= pd.to_datetime(sales_data[\"birthday\"])\n",
    "sales_data_mid = sales_data[((sales_data['birthday'].dt.month > 2) & (sales_data['birthday'].dt.month <8 ))]\n",
    "mean_units =sales_data_mid[\"units\"].mean()\n",
    "mean_units"
   ]
  },
  {
   "cell_type": "markdown",
   "metadata": {
    "colab_type": "text",
    "hidden": true,
    "id": "HXqX7Tjm3Wyp"
   },
   "source": [
    "Create a new column in sales_data titled 'order_minutes' and for each row, store the minutes from orderdate "
   ]
  },
  {
   "cell_type": "code",
   "execution_count": null,
   "metadata": {
    "colab": {},
    "colab_type": "code",
    "hidden": true,
    "id": "133EUqqG3Wyp"
   },
   "outputs": [],
   "source": [
    "sales_data[\"orderdate\"]= pd.to_datetime(sales_data[\"orderdate\"])\n",
    "sales_data['order_minutes'] = sales_data['orderdate'].dt.minute\n",
    "sales_data.head(2)"
   ]
  },
  {
   "cell_type": "markdown",
   "metadata": {
    "colab_type": "text",
    "hidden": true,
    "id": "HJ6RitkV3Wyr"
   },
   "source": [
    "For sales_data dataframe, create a dataframe called 'sd_df' to store only those rows where product is 'Harry Potter book'"
   ]
  },
  {
   "cell_type": "code",
   "execution_count": null,
   "metadata": {
    "colab": {},
    "colab_type": "code",
    "hidden": true,
    "id": "smjYl3F13Wyr"
   },
   "outputs": [],
   "source": [
    "sales_data = pd.read_csv('pandas-tutorial-master/data/blooth_sales_data.csv')\n",
    "sd_df = sales_data[sales_data[\"product\"] == 'Harry Potter book' ]\n",
    "sd_df.head(2)"
   ]
  },
  {
   "cell_type": "markdown",
   "metadata": {
    "colab_type": "text",
    "hidden": true,
    "id": "BPPK6tgy3Wys"
   },
   "source": [
    "For sales_data, find the data of people who were born before 1980"
   ]
  },
  {
   "cell_type": "code",
   "execution_count": null,
   "metadata": {
    "colab": {},
    "colab_type": "code",
    "hidden": true,
    "id": "HpZnKBkB3Wys"
   },
   "outputs": [],
   "source": [
    "sales_data = pd.read_csv('pandas-tutorial-master/data/blooth_sales_data.csv')\n",
    "sales_data[\"birthday\"]= pd.to_datetime(sales_data[\"birthday\"])\n",
    "sales_data= sales_data[sales_data['birthday'].dt.year < 1980]\n",
    "sales_data.head(2)"
   ]
  },
  {
   "cell_type": "markdown",
   "metadata": {
    "colab_type": "text",
    "hidden": true,
    "id": "SoLB3wSM3Wyv"
   },
   "source": [
    "For sales_data, find the average unitprice for products that were ordered in first week of a month"
   ]
  },
  {
   "cell_type": "code",
   "execution_count": null,
   "metadata": {
    "colab": {},
    "colab_type": "code",
    "hidden": true,
    "id": "zBYtf5a43Wyw"
   },
   "outputs": [],
   "source": [
    "sales_data = pd.read_csv('pandas-tutorial-master/data/blooth_sales_data.csv')\n",
    "sales_data[\"orderdate\"]= pd.to_datetime(sales_data[\"orderdate\"])\n",
    "sales_data= sales_data[sales_data['orderdate'].dt.day > 8]\n",
    "sales_data.head(2)"
   ]
  },
  {
   "cell_type": "markdown",
   "metadata": {
    "colab_type": "text",
    "hidden": true,
    "id": "hLuJVWP23Wyy"
   },
   "source": [
    "For sales data, display number of units sold for each product"
   ]
  },
  {
   "cell_type": "code",
   "execution_count": null,
   "metadata": {
    "colab": {},
    "colab_type": "code",
    "hidden": true,
    "id": "NUanKuUL3Wy0"
   },
   "outputs": [],
   "source": [
    "sales_data.groupby('product')['units'].sum().reset_index()"
   ]
  },
  {
   "cell_type": "markdown",
   "metadata": {
    "colab_type": "text",
    "hidden": true,
    "id": "_KEJO5Ep3Wy1"
   },
   "source": [
    "Create a new column in sales_data and store orderdate in the format mm/dd/yyyy"
   ]
  },
  {
   "cell_type": "code",
   "execution_count": null,
   "metadata": {
    "colab": {},
    "colab_type": "code",
    "hidden": true,
    "id": "6zYmcOKv3Wy1"
   },
   "outputs": [],
   "source": [
    "sales_data['new_date'] = sales_data['orderdate'].apply(lambda x: \"%d/%d/%d\" % (x.month, x.day,x.year))\n",
    "sales_data"
   ]
  },
  {
   "cell_type": "markdown",
   "metadata": {
    "colab_type": "text",
    "hidden": true,
    "id": "MVdzrRVE3Wy4"
   },
   "source": [
    "## Iris Dataset"
   ]
  },
  {
   "cell_type": "code",
   "execution_count": null,
   "metadata": {
    "colab": {},
    "colab_type": "code",
    "hidden": true,
    "id": "ZH-70CeB3Wy5"
   },
   "outputs": [],
   "source": [
    "## Loading the dataset\n",
    "\n",
    "from sklearn.datasets import load_iris\n",
    "data = load_iris()"
   ]
  },
  {
   "cell_type": "code",
   "execution_count": null,
   "metadata": {
    "colab": {},
    "colab_type": "code",
    "hidden": true,
    "id": "SZBSysRj3WzI",
    "outputId": "7c2bc848-e00a-4786-a794-8ca8e2541b1b"
   },
   "outputs": [],
   "source": [
    "data.data"
   ]
  },
  {
   "cell_type": "code",
   "execution_count": null,
   "metadata": {
    "colab": {},
    "colab_type": "code",
    "hidden": true,
    "id": "zUyOE2KH3WzJ",
    "outputId": "2090ceec-19c6-464b-aff7-a677c16c950c"
   },
   "outputs": [],
   "source": [
    "data.target"
   ]
  },
  {
   "cell_type": "code",
   "execution_count": null,
   "metadata": {
    "colab": {},
    "colab_type": "code",
    "hidden": true,
    "id": "KcnI3iE_3WzL",
    "outputId": "ff73858e-45a5-4de2-d31e-2a28f3a5505b"
   },
   "outputs": [],
   "source": [
    "data.feature_names"
   ]
  },
  {
   "cell_type": "code",
   "execution_count": null,
   "metadata": {
    "colab": {},
    "colab_type": "code",
    "hidden": true,
    "id": "TWx6wsU-3WzO",
    "outputId": "15dcc8d8-6273-41ac-8ce0-bce15d302dfb"
   },
   "outputs": [],
   "source": [
    "data.target_names"
   ]
  },
  {
   "cell_type": "markdown",
   "metadata": {
    "colab_type": "text",
    "hidden": true,
    "id": "JyjbJwKl3WzP"
   },
   "source": [
    "### Exercises"
   ]
  },
  {
   "cell_type": "markdown",
   "metadata": {
    "colab_type": "text",
    "hidden": true,
    "id": "Yt7Dii2O3WzP"
   },
   "source": [
    "Put together all the components of the data variable into a Pandas DataFrame. *This means putting together the feature and target variables, and adding their names as column names*"
   ]
  },
  {
   "cell_type": "code",
   "execution_count": null,
   "metadata": {
    "colab": {},
    "colab_type": "code",
    "hidden": true,
    "id": "QMrYo5U63WzP",
    "outputId": "a6ca3332-5d4f-426b-aedd-ca96720ae280"
   },
   "outputs": [],
   "source": [
    "df = pd.DataFrame(data.data, columns = data.feature_names)\n",
    "\n",
    "df['target'] = data.target\n",
    "\n",
    "df.head()"
   ]
  },
  {
   "cell_type": "markdown",
   "metadata": {
    "colab_type": "text",
    "hidden": true,
    "id": "5vkzjRZA3WzR"
   },
   "source": [
    "Find number of observations in the dataset which belong to class setosa and have a petal length > 3"
   ]
  },
  {
   "cell_type": "code",
   "execution_count": null,
   "metadata": {
    "colab": {},
    "colab_type": "code",
    "hidden": true,
    "id": "BEHGFSQu3WzV"
   },
   "outputs": [],
   "source": []
  },
  {
   "cell_type": "markdown",
   "metadata": {
    "colab_type": "text",
    "hidden": true,
    "id": "Oj1DDSyl3WzV"
   },
   "source": [
    "Find the maximum and minimum values of each of features."
   ]
  },
  {
   "cell_type": "code",
   "execution_count": null,
   "metadata": {
    "colab": {},
    "colab_type": "code",
    "hidden": true,
    "id": "drH9aURJ3WzV"
   },
   "outputs": [],
   "source": []
  },
  {
   "cell_type": "markdown",
   "metadata": {
    "colab_type": "text",
    "hidden": true,
    "id": "sJpCfA3M3WzW"
   },
   "source": [
    "Find the range of value for each of the features"
   ]
  },
  {
   "cell_type": "code",
   "execution_count": null,
   "metadata": {
    "colab": {},
    "colab_type": "code",
    "hidden": true,
    "id": "7GK3MHcL3WzW"
   },
   "outputs": [],
   "source": []
  },
  {
   "cell_type": "markdown",
   "metadata": {
    "colab_type": "text",
    "hidden": true,
    "id": "myT3HQQF3WzY"
   },
   "source": [
    "For each of the target classes, find the mean value of each of the independent variables. The mean values should be represented in a table.\n",
    "\n",
    "**Do not** use for loops. This should be doable in a single line of code"
   ]
  },
  {
   "cell_type": "code",
   "execution_count": null,
   "metadata": {
    "colab": {},
    "colab_type": "code",
    "hidden": true,
    "id": "kY7xLTWi3WzZ"
   },
   "outputs": [],
   "source": []
  }
 ],
 "metadata": {
  "colab": {
   "collapsed_sections": [
    "wUU-zkPu3Wuk",
    "y6B6PGPK3WvD",
    "OLEPQnnC3WvJ",
    "Fh7Flpcx3WvU",
    "r8Hutjj33Wv7",
    "DJQGn_eV3WwA",
    "rHZN9Wj63WwJ",
    "CFo0Wrqm3WwJ",
    "WpyIS_Bn3Wwb",
    "fTEpNhD13Wwt",
    "8lxbwUHH3WxX",
    "pCaIJQ6R3Wyc",
    "MVdzrRVE3Wy4",
    "JyjbJwKl3WzP"
   ],
   "name": "Recitation 1_Final.ipynb",
   "provenance": [],
   "version": "0.3.2"
  },
  "kernelspec": {
   "display_name": "Python 3",
   "language": "python",
   "name": "python3"
  },
  "language_info": {
   "codemirror_mode": {
    "name": "ipython",
    "version": 3
   },
   "file_extension": ".py",
   "mimetype": "text/x-python",
   "name": "python",
   "nbconvert_exporter": "python",
   "pygments_lexer": "ipython3",
   "version": "3.8.3"
  }
 },
 "nbformat": 4,
 "nbformat_minor": 1
}
